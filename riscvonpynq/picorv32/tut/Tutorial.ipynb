{
 "cells": [
  {
   "cell_type": "markdown",
   "metadata": {
    "tags": []
   },
   "source": [
    "# KV260 picoRV32 Risc-V Tutorial"
   ]
  },
  {
   "cell_type": "code",
   "execution_count": 14,
   "metadata": {},
   "outputs": [],
   "source": [
    "import sys\n",
    "import os\n",
    "os.chdir(\"/home/root/jupyter_notebooks/kv260-RISC-V-On-PYNQ/riscvonpynq/picorv32/tut\")\n",
    "sys.path.insert(0, '/home/root/jupyter_notebooks/kv260-RISC-V-On-PYNQ/riscvonpynq/picorv32')\n",
    "sys.path.insert(0, '/home/root/jupyter_notebooks/kv260-RISC-V-On-PYNQ')\n",
    "from tut.tutorial import TutorialOverlay\n",
    "overlay = TutorialOverlay(\"tutorial.bit\")"
   ]
  },
  {
   "cell_type": "code",
   "execution_count": 15,
   "metadata": {},
   "outputs": [
    {
     "name": "stdout",
     "output_type": "stream",
     "text": [
      "Help on TutorialOverlay in module tut.tutorial:\n",
      "\n",
      "<tut.tutorial.TutorialOverlay object>\n",
      "    Default documentation for overlay tutorial.bit. The following\n",
      "    attributes are available on this overlay:\n",
      "    \n",
      "    IP Blocks\n",
      "    ----------\n",
      "    psInterruptController : pynq.overlay.DefaultIP\n",
      "    subprocessorClk      : pynq.overlay.DefaultIP\n",
      "    axi_gpio_0           : pynq.lib.axigpio.AxiGPIO\n",
      "    zynq_ultra_ps_e_0    : pynq.overlay.DefaultIP\n",
      "    \n",
      "    Hierarchies\n",
      "    -----------\n",
      "    tutorialProcessor    : pynq.overlay.DefaultHierarchy\n",
      "    \n",
      "    Interrupts\n",
      "    ----------\n",
      "    None\n",
      "    \n",
      "    GPIO Outputs\n",
      "    ------------\n",
      "    None\n",
      "    \n",
      "    Memories\n",
      "    ------------\n",
      "    tutorialProcessorpsBramController : Memory\n",
      "    PSDDR                : Memory\n",
      "\n"
     ]
    }
   ],
   "source": [
    "# Optional step\n",
    "help(overlay)"
   ]
  },
  {
   "cell_type": "code",
   "execution_count": 16,
   "metadata": {},
   "outputs": [
    {
     "name": "stdout",
     "output_type": "stream",
     "text": [
      "Help on DocumentedHierarchy in module pynq.overlay object:\n",
      "\n",
      "class DocumentedHierarchy(DefaultHierarchy)\n",
      " |  Default documentation for hierarchy tutorialProcessor. The following\n",
      " |  attributes are available on this hierarchy:\n",
      " |  \n",
      " |  IP Blocks\n",
      " |  ----------\n",
      " |  None\n",
      " |  \n",
      " |  Hierarchies\n",
      " |  -----------\n",
      " |  None\n",
      " |  \n",
      " |  Interrupts\n",
      " |  ----------\n",
      " |  None\n",
      " |  \n",
      " |  GPIO Outputs\n",
      " |  ------------\n",
      " |  None\n",
      " |  \n",
      " |  Memories\n",
      " |  ------------\n",
      " |  psBramController     : Memory\n",
      " |  \n",
      " |  Method resolution order:\n",
      " |      DocumentedHierarchy\n",
      " |      DefaultHierarchy\n",
      " |      _IPMap\n",
      " |      builtins.object\n",
      " |  \n",
      " |  Methods defined here:\n",
      " |  \n",
      " |  __init__(self)\n",
      " |  \n",
      " |  ----------------------------------------------------------------------\n",
      " |  Methods inherited from DefaultHierarchy:\n",
      " |  \n",
      " |  download(self, bitfile_name, dtbo=None, program=True)\n",
      " |      Function to download a partial bitstream for the hierarchy block.\n",
      " |      \n",
      " |      Since it is hard to know which hierarchy is to be reconfigured by only\n",
      " |      looking at the metadata, we assume users will tell this information.\n",
      " |      Thus, this function should be called only when users are sure about\n",
      " |      the hierarchy name of the partial region.\n",
      " |      \n",
      " |      Parameters\n",
      " |      ----------\n",
      " |      bitfile_name : str\n",
      " |          The name of the partial bitstream.\n",
      " |      dtbo : str\n",
      " |          The relative or absolute path of the partial dtbo file.\n",
      " |      program : bool\n",
      " |          Whether the overlay should be downloaded.\n",
      " |  \n",
      " |  ----------------------------------------------------------------------\n",
      " |  Static methods inherited from DefaultHierarchy:\n",
      " |  \n",
      " |  checkhierarchy(description)\n",
      " |      Function to check if the driver matches a particular hierarchy\n",
      " |      \n",
      " |      This function should be redefined in derived classes to return True\n",
      " |      if the description matches what is expected by the driver. The default\n",
      " |      implementation always returns False so that drivers that forget don't\n",
      " |      get loaded for hierarchies they don't expect.\n",
      " |  \n",
      " |  ----------------------------------------------------------------------\n",
      " |  Methods inherited from _IPMap:\n",
      " |  \n",
      " |  __dir__(self)\n",
      " |      Default dir() implementation.\n",
      " |  \n",
      " |  __getattr__(self, key)\n",
      " |  \n",
      " |  ----------------------------------------------------------------------\n",
      " |  Data descriptors inherited from _IPMap:\n",
      " |  \n",
      " |  __dict__\n",
      " |      dictionary for instance variables (if defined)\n",
      " |  \n",
      " |  __weakref__\n",
      " |      list of weak references to the object (if defined)\n",
      "\n"
     ]
    }
   ],
   "source": [
    "# Optional step\n",
    "help(overlay.tutorialProcessor)"
   ]
  },
  {
   "cell_type": "code",
   "execution_count": 17,
   "metadata": {},
   "outputs": [
    {
     "data": {
      "text/plain": [
       "dict_keys(['psInterruptController', 'subprocessorClk', 'axi_gpio_0', 'zynq_ultra_ps_e_0'])"
      ]
     },
     "execution_count": 17,
     "metadata": {},
     "output_type": "execute_result"
    }
   ],
   "source": [
    "# Optional step\n",
    "overlay.ip_dict.keys()"
   ]
  },
  {
   "cell_type": "code",
   "execution_count": 18,
   "metadata": {},
   "outputs": [
    {
     "name": "stdout",
     "output_type": "stream",
     "text": [
      "Memory Index   0: 0x00000001\n",
      "Memory Index   1: 0x00000002\n",
      "Memory Index   2: 0x00000000\n",
      "Memory Index   3: 0x00000000\n",
      "Memory Index 16380: 0x00000000\n",
      "Memory Index 16381: 0x00000000\n",
      "Memory Index 16382: 0x0000ffff\n",
      "Memory Index 16383: 0x00007fff\n"
     ]
    }
   ],
   "source": [
    "# Optional step\n",
    "\n",
    "# DPRAM 32 bit word array pointer\n",
    "arr = overlay.tutorialProcessor.psBramController.mmio.array\n",
    "\n",
    "# Write first 2 32 bit words in DPRAM\n",
    "arr[0] = 1\n",
    "arr[1] = 2\n",
    "\n",
    "# Write last 2 32 bit words in DPRAM\n",
    "arr[16382] = 65535\n",
    "arr[16383] = 32767\n",
    "\n",
    "# arr[16384] = 32767\n",
    "# IndexError: index 16384 is out of bounds for axis 0 with size 16384\n",
    "\n",
    "# Print first 4 32 bit words in DPRAM\n",
    "for i in range(4):  \n",
    "    print(f'Memory Index {i:3}: {arr[i]:#0{10}x}')\n",
    "\n",
    "# Print last 4 32 bit words in DPRAM\n",
    "for i in range(4):  \n",
    "    print(f'Memory Index {(i + 16380):3}: {arr[i + 16380]:#0{10}x}')"
   ]
  },
  {
   "cell_type": "code",
   "execution_count": 38,
   "metadata": {},
   "outputs": [
    {
     "name": "stdout",
     "output_type": "stream",
     "text": [
      "/home/root/jupyter_notebooks/kv260-RISC-V-On-PYNQ/riscvonpynq/picorv32/tut\n",
      "Building object file test.o for test.c\n",
      "riscv32-unknown-elf-gcc -c -Qn -march=rv32im -o test.o -Os --std=c99 test.c \n",
      "Combining object files init.o to produce test.elf\n",
      "riscv32-unknown-elf-gcc -Os -ffreestanding -nostdlib -o test.elf \\\n",
      "\t-Wl,-Bstatic,-T,picorv32.ld \\\n",
      "\tinit.o test.o -lgcc -march=rv32im \n",
      "/opt/riscv32im/lib/gcc/riscv32-unknown-elf/12.2.0/../../../../riscv32-unknown-elf/bin/ld: warning: test.elf has a LOAD segment with RWX permissions\n",
      "Converting .elf file test.elf into test.bin\n",
      "riscv32-unknown-elf-objcopy -O binary test.elf test.bin\n",
      "total 8.1M\n",
      "-rw-rw-r-- 1 ubuntu ubuntu  22K Aug  2 14:12 Tutorial.ipynb\n",
      "-rw-rw-r-- 1 ubuntu ubuntu   43 Apr 10  2020 __init__.py\n",
      "drwxr-xr-x 2 root   root   4.0K Jul 30 09:09 __pycache__\n",
      "drwxrwxr-x 4 ubuntu ubuntu 4.0K Aug  2 13:45 build\n",
      "-rw-r--r-- 1 root   root   2.2K Aug  2 14:02 init.S\n",
      "-rw-r--r-- 1 root   root    864 Aug  2 14:04 init.o\n",
      "-rw-r--r-- 1 root   root    988 Aug  2 14:01 makefile\n",
      "-rw-r--r-- 1 root   root   2.0K Aug  2 14:02 picorv32.ld\n",
      "-rwxr-xr-x 1 root   root    322 Aug  2 14:14 test.bin\n",
      "-rw-rw-r-- 1 ubuntu ubuntu 1.2K Jul 17 14:07 test.c\n",
      "-rwxr-xr-x 1 root   root   4.8K Aug  2 14:14 test.elf\n",
      "-rw-r--r-- 1 root   root    904 Aug  2 14:14 test.o\n",
      "-rw-rw-r-- 1 ubuntu ubuntu 7.5M Jul 30 17:21 tutorial.bit\n",
      "-rw-rw-r-- 1 ubuntu ubuntu 468K Jul 30 17:16 tutorial.hwh\n",
      "-rw-rw-r-- 1 ubuntu ubuntu 2.3K Apr 10  2020 tutorial.py\n",
      "-rw-rw-r-- 1 ubuntu ubuntu  63K Jul 30 17:24 tutorial.tcl\n"
     ]
    }
   ],
   "source": [
    "# Optional step\n",
    "# Compile test.c program to test.bin\n",
    "!pwd\n",
    "!make test.bin\n",
    "!ls -lh /home/root/jupyter_notebooks/kv260-RISC-V-On-PYNQ/riscvonpynq/picorv32/tut"
   ]
  },
  {
   "cell_type": "code",
   "execution_count": 39,
   "metadata": {},
   "outputs": [
    {
     "name": "stdout",
     "output_type": "stream",
     "text": [
      "bytearray(b\"\\x13\\x00\\x00\\x00\\x93\\x00\\x00\\x007\\x01\\x01\\x00\\x93\\x01\\x00\\x00\\x13\\x02\\x00\\x00\\x93\\x02\\x00\\x00\\x13\\x03\\x00\\x00\\x93\\x03\\x00\\x00\\x13\\x04\\x00\\x00\\x93\\x04\\x00\\x00\\x03%\\xc1\\xff\\x83%\\x81\\xff\\x13\\x06\\x00\\x00\\x93\\x06\\x00\\x00\\x13\\x07\\x00\\x00\\x93\\x07\\x00\\x00\\x13\\x08\\x00\\x00\\x93\\x08\\x00\\x00\\x13\\t\\x00\\x00\\x93\\t\\x00\\x00\\x13\\n\\x00\\x00\\x93\\n\\x00\\x00\\x13\\x0b\\x00\\x00\\x93\\x0b\\x00\\x00\\x13\\x0c\\x00\\x00\\x93\\x0c\\x00\\x00\\x13\\r\\x00\\x00\\x93\\r\\x00\\x00\\x13\\x0e\\x00\\x00\\x93\\x0e\\x00\\x00\\x13\\x0f\\x00\\x00\\x93\\x0f\\x00\\x00\\xef\\x00\\x80\\x03#,\\xb1\\xfe#.\\xa1\\xfes\\x00\\x10\\x00A\\'\\x00\\x00\\x00riscv\\x00\\x01\\x1d\\x00\\x00\\x00\\x05rv32i2p1_m2p0_zmmul1p0\\x00\\x13\\x01\\x01\\xff#&\\x01\\x00\\xb7\\x17\\x00\\x00\\x13\\x07\\xf0\\x0f#\\xa0\\xe7\\x007\\x07\\x01\\x00\\x13\\x07\\xf7\\xff#\\xa2\\xe7\\x007\\x07\\x00\\x01\\x13\\x07\\xf7\\xff#\\xa4\\xe7\\x00\\x13\\x07\\xf0\\xff#\\xa6\\xe7\\x00\\x93\\x06\\xf0\\xff7\\x17\\x00\\x00\\x83\\'\\xc1\\x00#(\\xf7\\x00\\x83\\'\\xc1\\x00\\x93\\x87\\x17\\x00#&\\xf1\\x00\\x83\\'\\xc1\\x00\\xe3\\x94\\xd7\\xfe#&\\x01\\x00o\\xf0\\x1f\\xfeA)\\x00\\x00\\x00riscv\\x00\\x01\\x1f\\x00\\x00\\x00\\x04\\x10\\x05rv32i2p1_m2p0_zmmul1p0\\x00\")\n",
      "322\n",
      "Memory Index   0: 0x00000013\n",
      "Memory Index   1: 0x00000093\n",
      "Memory Index   2: 0x00010137\n",
      "Memory Index   3: 0x00000193\n",
      "Memory Index   4: 0x00000213\n",
      "Memory Index   5: 0x00000293\n",
      "Memory Index   6: 0x00000313\n",
      "Memory Index   7: 0x00000393\n",
      "Memory Index   8: 0x00000413\n",
      "Memory Index   9: 0x00000493\n",
      "Memory Index  10: 0xffc12503\n",
      "Memory Index  11: 0xff812583\n",
      "Memory Index  12: 0x00000613\n",
      "Memory Index  13: 0x00000693\n",
      "Memory Index  14: 0x00000713\n",
      "Memory Index  15: 0x00000793\n",
      "Memory Index  16: 0x00000813\n",
      "Memory Index  17: 0x00000893\n",
      "Memory Index  18: 0x00000913\n",
      "Memory Index  19: 0x00000993\n",
      "Memory Index  20: 0x00000a13\n",
      "Memory Index  21: 0x00000a93\n",
      "Memory Index  22: 0x00000b13\n",
      "Memory Index  23: 0x00000b93\n",
      "Memory Index  24: 0x00000c13\n",
      "Memory Index  25: 0x00000c93\n",
      "Memory Index  26: 0x00000d13\n",
      "Memory Index  27: 0x00000d93\n",
      "Memory Index  28: 0x00000e13\n",
      "Memory Index  29: 0x00000e93\n",
      "Memory Index  30: 0x00000f13\n",
      "Memory Index  31: 0x00000f93\n",
      "Memory Index  32: 0x038000ef\n",
      "Memory Index  33: 0xfeb12c23\n",
      "Memory Index  34: 0xfea12e23\n",
      "Memory Index  35: 0x00100073\n",
      "Memory Index  36: 0x00002741\n",
      "Memory Index  37: 0x73697200\n",
      "Memory Index  38: 0x01007663\n",
      "Memory Index  39: 0x0000001d\n",
      "Memory Index  40: 0x33767205\n",
      "Memory Index  41: 0x70326932\n",
      "Memory Index  42: 0x326d5f31\n",
      "Memory Index  43: 0x7a5f3070\n",
      "Memory Index  44: 0x6c756d6d\n",
      "Memory Index  45: 0x00307031\n",
      "Memory Index  46: 0xff010113\n",
      "Memory Index  47: 0x00012623\n",
      "Memory Index  48: 0x000017b7\n",
      "Memory Index  49: 0x0ff00713\n",
      "Memory Index  50: 0x00e7a023\n",
      "Memory Index  51: 0x00010737\n",
      "Memory Index  52: 0xfff70713\n",
      "Memory Index  53: 0x00e7a223\n",
      "Memory Index  54: 0x01000737\n",
      "Memory Index  55: 0xfff70713\n",
      "Memory Index  56: 0x00e7a423\n",
      "Memory Index  57: 0xfff00713\n",
      "Memory Index  58: 0x00e7a623\n",
      "Memory Index  59: 0xfff00693\n",
      "Memory Index  60: 0x00001737\n",
      "Memory Index  61: 0x00c12783\n",
      "Memory Index  62: 0x00f72823\n",
      "Memory Index  63: 0x00c12783\n",
      "Memory Index  64: 0x00178793\n",
      "Memory Index  65: 0x00f12623\n",
      "Memory Index  66: 0x00c12783\n",
      "Memory Index  67: 0xfed794e3\n",
      "Memory Index  68: 0x00012623\n",
      "Memory Index  69: 0xfe1ff06f\n",
      "Memory Index  70: 0x00002941\n",
      "Memory Index  71: 0x73697200\n",
      "Memory Index  72: 0x01007663\n",
      "Memory Index  73: 0x0000001f\n",
      "Memory Index  74: 0x72051004\n",
      "Memory Index  75: 0x69323376\n",
      "Memory Index  76: 0x5f317032\n",
      "Memory Index  77: 0x3070326d\n",
      "Memory Index  78: 0x6d6d7a5f\n",
      "Memory Index  79: 0x70316c75\n",
      "Memory Index  80: 0x00000000\n",
      "Memory Index  81: 0x00000000\n",
      "Memory Index  82: 0x00000000\n",
      "Memory Index  83: 0x00000000\n",
      "Memory Index  84: 0x00000000\n",
      "Memory Index  85: 0x00000000\n",
      "Memory Index  86: 0x00000000\n",
      "Memory Index  87: 0x00000000\n",
      "Memory Index  88: 0x00000000\n",
      "Memory Index  89: 0x00000000\n",
      "Memory Index  90: 0x00000000\n",
      "Memory Index  91: 0x00000000\n",
      "Memory Index  92: 0x00000000\n",
      "Memory Index  93: 0x00000000\n",
      "Memory Index  94: 0x00000000\n",
      "Memory Index  95: 0x00000000\n",
      "Memory Index  96: 0x00000000\n",
      "Memory Index  97: 0x00000000\n",
      "Memory Index  98: 0x00000000\n",
      "Memory Index  99: 0x00000000\n"
     ]
    }
   ],
   "source": [
    "# Write \"test.bin\" program in DPRAM starting from address 0x0000\n",
    "# After writing it does a memory dump of the first 100 32 bit words\n",
    "\n",
    "import mmap\n",
    "\n",
    "# DPRAM 32 bit word array pointer\n",
    "arr = overlay.tutorialProcessor.psBramController.mmio.array\n",
    "\n",
    "# Define the function to copy a binary file to an array \n",
    "def copy_binary_to_array(file_path):\n",
    "    with open(file_path, \"rb\") as file:\n",
    "        # Map the file to array\n",
    "        with mmap.mmap(file.fileno(), 0, access=mmap.ACCESS_READ) as mapped_file:\n",
    "            # Copy the mapped file content to array\n",
    "            binary_array = bytearray(mapped_file)\n",
    "\n",
    "    return binary_array\n",
    "\n",
    "\n",
    "file_path = \"test.bin\"\n",
    "array = copy_binary_to_array(file_path)\n",
    "\n",
    "with open(file_path, \"rb\") as file:\n",
    "    size = os.fstat(file.fileno()).st_size\n",
    "\n",
    "print(array)\n",
    "print(size)\n",
    "\n",
    "x=0\n",
    "for i in range(int(size/4)):\n",
    "    arr[i] = array[x] + array[x+1]*256 + array[x+2]*65536 + array[x+3]*16777216\n",
    "    x=x+4\n",
    "\n",
    "for i in range(100):\n",
    "    print(f'Memory Index {i:3}: {arr[i]:#0{10}x}')"
   ]
  },
  {
   "cell_type": "code",
   "execution_count": 40,
   "metadata": {},
   "outputs": [],
   "source": [
    "# Send a low reset pulse to the processor and run it using bit 0 of axi_gpio_0\n",
    "\n",
    "from pynq.lib import AxiGPIO\n",
    "\n",
    "n_reset = overlay.axi_gpio_0\n",
    "\n",
    "# Configure axi_gpio_0 as digital outputs\n",
    "outputMask = 0x0\n",
    "tristateRegisterOffset = 0x4\n",
    "n_reset.write(tristateRegisterOffset, outputMask)\n",
    "\n",
    "# Send a low reset pulse to the processor using bit 0 of axi_gpio_0\n",
    "# Reset signal: set to 1, then to 0, then to 1 to run the processor\n",
    "dataRegisterOffset = 0x0\n",
    "n_reset.write(dataRegisterOffset, 0x1)\n",
    "n_reset.write(dataRegisterOffset, 0x0)\n",
    "n_reset.write(dataRegisterOffset, 0x1)"
   ]
  },
  {
   "cell_type": "code",
   "execution_count": 42,
   "metadata": {},
   "outputs": [
    {
     "name": "stdout",
     "output_type": "stream",
     "text": [
      "Memory Index 1024: 0x000000ff\n",
      "Memory Index 1025: 0x0000ffff\n",
      "Memory Index 1026: 0x00ffffff\n",
      "Memory Index 1027: 0xffffffff\n",
      "Memory Index 1028: 0x00539dee\n",
      "Memory Index 1029: 0x00000000\n"
     ]
    }
   ],
   "source": [
    "# Display memory locations written by the test program\n",
    "\n",
    "# Execute this cell more than once to see Memory Index 1028 fast increments\n",
    "\n",
    "# Memory Index 1029 is not written by the test program\n",
    "\n",
    "print(f'Memory Index {1024:3}: {arr[1024]:#0{10}x}')\n",
    "print(f'Memory Index {1025:3}: {arr[1025]:#0{10}x}')\n",
    "print(f'Memory Index {1026:3}: {arr[1026]:#0{10}x}')\n",
    "print(f'Memory Index {1027:3}: {arr[1027]:#0{10}x}')\n",
    "print(f'Memory Index {1028:3}: {arr[1028]:#0{10}x}')\n",
    "print(f'Memory Index {1029:3}: {arr[1029]:#0{10}x}')"
   ]
  },
  {
   "cell_type": "code",
   "execution_count": 28,
   "metadata": {},
   "outputs": [],
   "source": [
    "# Send a low reset pulse to the processor using bit 0 of axi_gpio_0\n",
    "# Reset signal: set to 1, then to 0, then to 1 to run the processor\n",
    "dataRegisterOffset = 0x0\n",
    "n_reset.write(dataRegisterOffset, 0x1)\n",
    "n_reset.write(dataRegisterOffset, 0x0)\n",
    "n_reset.write(dataRegisterOffset, 0x1)"
   ]
  },
  {
   "cell_type": "code",
   "execution_count": 34,
   "metadata": {},
   "outputs": [
    {
     "name": "stdout",
     "output_type": "stream",
     "text": [
      "Memory Index 1024: 0x000000ff\n",
      "Memory Index 1025: 0x0000ffff\n",
      "Memory Index 1026: 0x00ffffff\n",
      "Memory Index 1027: 0xffffffff\n",
      "Memory Index 1028: 0x01103ee1\n",
      "Memory Index 1029: 0x00000000\n"
     ]
    }
   ],
   "source": [
    "# Display memory locations written by the test program\n",
    "\n",
    "# Execute this cell more than once to see Memory Index 1028 fast increments\n",
    "\n",
    "# Memory Index 1029 is not written by the test program\n",
    "\n",
    "print(f'Memory Index {1024:3}: {arr[1024]:#0{10}x}')\n",
    "print(f'Memory Index {1025:3}: {arr[1025]:#0{10}x}')\n",
    "print(f'Memory Index {1026:3}: {arr[1026]:#0{10}x}')\n",
    "print(f'Memory Index {1027:3}: {arr[1027]:#0{10}x}')\n",
    "print(f'Memory Index {1028:3}: {arr[1028]:#0{10}x}')\n",
    "print(f'Memory Index {1029:3}: {arr[1029]:#0{10}x}')"
   ]
  },
  {
   "cell_type": "code",
   "execution_count": 32,
   "metadata": {},
   "outputs": [],
   "source": [
    "# Keep the processor in reset using a different method for driving axi_gpio_0 \n",
    "\n",
    "axi_outputs_instance = overlay.ip_dict['axi_gpio_0']\n",
    "outputs = AxiGPIO(axi_outputs_instance).channel1\n",
    "\n",
    "# The outputs can be addressed using a slice.\n",
    "#outputs[0:3].write(0x1)\n",
    "outputs[0:3].write(0x0)\n",
    "\n",
    "# See: https://discuss.pynq.io/t/tutorial-using-a-new-hardware-design-with-pynq-axi-gpio/146\n"
   ]
  },
  {
   "cell_type": "code",
   "execution_count": 12,
   "metadata": {},
   "outputs": [
    {
     "name": "stdout",
     "output_type": "stream",
     "text": [
      "Memory Index 1024: 0x000000ff\n",
      "Memory Index 1025: 0x0000ffff\n",
      "Memory Index 1026: 0x00ffffff\n",
      "Memory Index 1027: 0xffffffff\n",
      "Memory Index 1028: 0x133c3675\n",
      "Memory Index 1029: 0x00000000\n"
     ]
    }
   ],
   "source": [
    "# Display memory locations written by the test program\n",
    "\n",
    "#\n",
    "# Now if you execute this cell more than once you will see Memory Index 1028 not incremented because the processor is stopped\n",
    "#\n",
    "\n",
    "# Memory Index 1029 is not written by the test program\n",
    "\n",
    "print(f'Memory Index {1024:3}: {arr[1024]:#0{10}x}')\n",
    "print(f'Memory Index {1025:3}: {arr[1025]:#0{10}x}')\n",
    "print(f'Memory Index {1026:3}: {arr[1026]:#0{10}x}')\n",
    "print(f'Memory Index {1027:3}: {arr[1027]:#0{10}x}')\n",
    "print(f'Memory Index {1028:3}: {arr[1028]:#0{10}x}')\n",
    "print(f'Memory Index {1029:3}: {arr[1029]:#0{10}x}')"
   ]
  },
  {
   "cell_type": "code",
   "execution_count": null,
   "metadata": {},
   "outputs": [],
   "source": []
  }
 ],
 "metadata": {
  "kernelspec": {
   "display_name": "Python 3 (ipykernel)",
   "language": "python",
   "name": "python3"
  },
  "language_info": {
   "codemirror_mode": {
    "name": "ipython",
    "version": 3
   },
   "file_extension": ".py",
   "mimetype": "text/x-python",
   "name": "python",
   "nbconvert_exporter": "python",
   "pygments_lexer": "ipython3",
   "version": "3.10.6"
  }
 },
 "nbformat": 4,
 "nbformat_minor": 4
}
